{
  "nbformat": 4,
  "nbformat_minor": 0,
  "metadata": {
    "colab": {
      "provenance": [],
      "include_colab_link": true
    },
    "kernelspec": {
      "name": "python3",
      "display_name": "Python 3"
    },
    "language_info": {
      "name": "python"
    }
  },
  "cells": [
    {
      "cell_type": "markdown",
      "metadata": {
        "id": "view-in-github",
        "colab_type": "text"
      },
      "source": [
        "<a href=\"https://colab.research.google.com/github/Dylan-Morris/DylanMorris.github.io/blob/main/python_ex1.ipynb\" target=\"_parent\"><img src=\"https://colab.research.google.com/assets/colab-badge.svg\" alt=\"Open In Colab\"/></a>"
      ]
    },
    {
      "cell_type": "markdown",
      "source": [
        "### **Python Basics Exercise 1**"
      ],
      "metadata": {
        "id": "WavzXiU6pqYs"
      }
    },
    {
      "cell_type": "markdown",
      "source": [
        "\n",
        "## Exercise 1: Printing\n",
        "### Task:\n",
        "Print the following message: \"Hello, Python!\""
      ],
      "metadata": {
        "id": "1K092Tujp0S-"
      }
    },
    {
      "cell_type": "code",
      "source": [
        "print(\"Hello, Python!\")"
      ],
      "metadata": {
        "colab": {
          "base_uri": "https://localhost:8080/"
        },
        "id": "drvra7Tsrhw-",
        "outputId": "2626d7cb-1ed0-4681-c007-1b276be6fa8a"
      },
      "execution_count": null,
      "outputs": [
        {
          "output_type": "stream",
          "name": "stdout",
          "text": [
            "Hello, Python!\n"
          ]
        }
      ]
    },
    {
      "cell_type": "markdown",
      "source": [
        "## Exercise 2: Variables and Data Types\n",
        "### Task:\n",
        "Create a variable `name` and assign it your name as a string. Then, print it."
      ],
      "metadata": {
        "id": "-An4H9_atBHP"
      }
    },
    {
      "cell_type": "code",
      "source": [
        "name = \"Dylan\"\n",
        "print(name)"
      ],
      "metadata": {
        "colab": {
          "base_uri": "https://localhost:8080/"
        },
        "id": "tr9X_rzytCzv",
        "outputId": "a9f02771-edb8-4c66-e794-a77c39d1f6fd"
      },
      "execution_count": 1,
      "outputs": [
        {
          "output_type": "stream",
          "name": "stdout",
          "text": [
            "Dylan\n"
          ]
        }
      ]
    },
    {
      "cell_type": "markdown",
      "source": [
        "## Exercise 3: User Input\n",
        "### Task:\n",
        "Ask the user to enter their favorite color and store it in a variable. Then, print \"Your favorite color is ___\""
      ],
      "metadata": {
        "id": "CLzw6wNQtQhm"
      }
    },
    {
      "cell_type": "code",
      "source": [
        "colour = input(\"What is your favourite colour? \")\n",
        "print(\"your favourite colour is\", colour )\n"
      ],
      "metadata": {
        "colab": {
          "base_uri": "https://localhost:8080/"
        },
        "id": "B-T9UA-etV6_",
        "outputId": "d6e1c801-9496-4b09-cfd6-1fcc89328ac6"
      },
      "execution_count": 4,
      "outputs": [
        {
          "output_type": "stream",
          "name": "stdout",
          "text": [
            "What is your favourite colour? red\n",
            "your favourite colour is red\n"
          ]
        }
      ]
    },
    {
      "cell_type": "markdown",
      "source": [
        "## Exercise 4: Simple Conditionals\n",
        "### Task:\n",
        "Write a program that asks the user for their age. If they are 18 or older, print \"You are an adult\". Otherwise, print \"You are a minor\"."
      ],
      "metadata": {
        "id": "96LdlrHStuBw"
      }
    },
    {
      "cell_type": "code",
      "source": [
        "age = int(input(\"What is your age? \"))\n",
        "if age >= 18:\n",
        "  print(\"You are an adult\")\n",
        "else:\n",
        "  print(\"You are a minor\")\n"
      ],
      "metadata": {
        "colab": {
          "base_uri": "https://localhost:8080/"
        },
        "id": "hbaWtMfqtvZb",
        "outputId": "f8b77a76-6ce8-46a8-8704-51ed8e41d325"
      },
      "execution_count": 8,
      "outputs": [
        {
          "output_type": "stream",
          "name": "stdout",
          "text": [
            "What is your age? 17\n",
            "You are a minor\n"
          ]
        }
      ]
    },
    {
      "cell_type": "markdown",
      "source": [
        "## Exercise 5: Even or Odd\n",
        "### Task:\n",
        "Ask the user to enter a number. Check if the number is even or odd and print the result."
      ],
      "metadata": {
        "id": "YcSYS6jTtz4-"
      }
    },
    {
      "cell_type": "code",
      "source": [
        "num = int(input(\"Enter a number\"))\n",
        "if num % 2 == 0:\n",
        "  print(\"Your number is even\")\n",
        "else:\n",
        "  print(\"Your number is odd\")"
      ],
      "metadata": {
        "colab": {
          "base_uri": "https://localhost:8080/"
        },
        "id": "NyFdva-jt38F",
        "outputId": "d59b9b81-1d73-453c-d8d8-c5dd5745d738"
      },
      "execution_count": 11,
      "outputs": [
        {
          "output_type": "stream",
          "name": "stdout",
          "text": [
            "Enter a number124567\n",
            "Your number is odd\n"
          ]
        }
      ]
    },
    {
      "cell_type": "markdown",
      "source": [
        "## Exercise 6: For Loop\n",
        "### Task:\n",
        "Write a for loop that prints the numbers from 1 to 5."
      ],
      "metadata": {
        "id": "M9_wpBLmuBN7"
      }
    },
    {
      "cell_type": "code",
      "source": [
        "for x in range (1,6):\n",
        "  print(x)"
      ],
      "metadata": {
        "colab": {
          "base_uri": "https://localhost:8080/"
        },
        "id": "58YhJqvduGzf",
        "outputId": "880ffec5-22dc-41e1-f4ed-dfc68a53b600"
      },
      "execution_count": 14,
      "outputs": [
        {
          "output_type": "stream",
          "name": "stdout",
          "text": [
            "1\n",
            "2\n",
            "3\n",
            "4\n",
            "5\n"
          ]
        }
      ]
    },
    {
      "cell_type": "markdown",
      "source": [
        "## Exercise 7: While Loop\n",
        "### Task:\n",
        "Write a while loop that prints numbers from 1 to 5."
      ],
      "metadata": {
        "id": "Tvvw7QLnuLVz"
      }
    },
    {
      "cell_type": "code",
      "source": [
        "x = 1\n",
        "while x <=5:\n",
        "  print(x)\n",
        "  x = x+1\n"
      ],
      "metadata": {
        "colab": {
          "base_uri": "https://localhost:8080/"
        },
        "id": "fLaorZLFuOlv",
        "outputId": "c56cc6db-ac6a-4904-96e9-9d626b7964e4"
      },
      "execution_count": 24,
      "outputs": [
        {
          "output_type": "stream",
          "name": "stdout",
          "text": [
            "1\n",
            "2\n",
            "3\n",
            "4\n",
            "5\n"
          ]
        }
      ]
    },
    {
      "cell_type": "markdown",
      "source": [
        "## Exercise 8: Sum of Numbers\n",
        "### Task:\n",
        "Write a loop that calculates and prints the sum of numbers from 1 to 10."
      ],
      "metadata": {
        "id": "AUcAuhZZuTQT"
      }
    },
    {
      "cell_type": "code",
      "source": [
        "sum = 0\n",
        "for x in range(1, 11):\n",
        "    sum += x\n",
        "print(sum)"
      ],
      "metadata": {
        "colab": {
          "base_uri": "https://localhost:8080/"
        },
        "outputId": "8ea3230e-f1d0-4d11-f194-181cf1444c51",
        "id": "ufMtSUefvIAs"
      },
      "execution_count": 66,
      "outputs": [
        {
          "output_type": "stream",
          "name": "stdout",
          "text": [
            "55\n"
          ]
        }
      ]
    },
    {
      "cell_type": "markdown",
      "source": [
        "## Exercise 9: FizzBuzz\n",
        "### Task:\n",
        "Write a program that prints numbers from 1 to 20.\n",
        "- If a number is divisible by 3, print \"Fizz\" instead.\n",
        "- If a number is divisible by 5, print \"Buzz\" instead.\n",
        "- If a number is divisible by both 3 and 5, print \"FizzBuzz\"."
      ],
      "metadata": {
        "id": "GDSmiDsIucex"
      }
    },
    {
      "cell_type": "code",
      "source": [
        "for x in range (1,21):\n",
        "  if x % 3 == 0 and x % 5 == 0:\n",
        "    print(\"FizzBuzz\")\n",
        "  elif x % 3 == 0:\n",
        "    print(\"Fizz\")\n",
        "  elif x % 5 == 0:\n",
        "    print(\"Buzz\")\n",
        "  else:\n",
        "    print(x)\n",
        ""
      ],
      "metadata": {
        "id": "n1dKRLrgudjv",
        "outputId": "a176cf91-9a44-4ed2-c445-f95c0f4baa50",
        "colab": {
          "base_uri": "https://localhost:8080/"
        }
      },
      "execution_count": 80,
      "outputs": [
        {
          "output_type": "stream",
          "name": "stdout",
          "text": [
            "1\n",
            "2\n",
            "Fizz\n",
            "4\n",
            "Buzz\n",
            "Fizz\n",
            "7\n",
            "8\n",
            "Fizz\n",
            "Buzz\n",
            "11\n",
            "Fizz\n",
            "13\n",
            "14\n",
            "FizzBuzz\n",
            "16\n",
            "17\n",
            "Fizz\n",
            "19\n",
            "Buzz\n"
          ]
        }
      ]
    }
  ]
}
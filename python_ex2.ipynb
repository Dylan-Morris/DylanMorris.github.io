{
  "nbformat": 4,
  "nbformat_minor": 0,
  "metadata": {
    "colab": {
      "provenance": [],
      "include_colab_link": true
    },
    "kernelspec": {
      "name": "python3",
      "display_name": "Python 3"
    },
    "language_info": {
      "name": "python"
    }
  },
  "cells": [
    {
      "cell_type": "markdown",
      "metadata": {
        "id": "view-in-github",
        "colab_type": "text"
      },
      "source": [
        "<a href=\"https://colab.research.google.com/github/Dylan-Morris/DylanMorris.github.io/blob/main/python_ex2.ipynb\" target=\"_parent\"><img src=\"https://colab.research.google.com/assets/colab-badge.svg\" alt=\"Open In Colab\"/></a>"
      ]
    },
    {
      "cell_type": "markdown",
      "source": [
        "# Python Exercises 2"
      ],
      "metadata": {
        "id": "reaLcOQzvWym"
      }
    },
    {
      "cell_type": "markdown",
      "source": [
        "## Exercise 1: Defining Functions\n",
        "### Task:\n",
        "Write a function called `greet` that takes a name as a parameter and returns \"Hello, Yourname!\"."
      ],
      "metadata": {
        "id": "Yeg9DKvyva6l"
      }
    },
    {
      "cell_type": "code",
      "source": [
        "def greet(name):\n",
        "  print('Hello, ' + name)\n",
        "\n",
        "greet('yourname')"
      ],
      "metadata": {
        "colab": {
          "base_uri": "https://localhost:8080/"
        },
        "id": "qdQwJNo8velp",
        "outputId": "115934ee-0c72-4c4a-9636-539f613d0e04"
      },
      "execution_count": 21,
      "outputs": [
        {
          "output_type": "stream",
          "name": "stdout",
          "text": [
            "Hello,yourname\n"
          ]
        }
      ]
    },
    {
      "cell_type": "markdown",
      "source": [
        "## Exercise 2: Function with Default Parameter\n",
        "### Task:\n",
        "Write a function `power` that takes two arguments: a base and an exponent (default to 2). It should return the base raised to the exponent."
      ],
      "metadata": {
        "id": "4nlbtlaIv0qt"
      }
    },
    {
      "cell_type": "code",
      "source": [
        "def power(a, b):\n",
        "    return int(a ** b)\n",
        "\n",
        "a = int(input('Enter first number: '))\n",
        "b = int(input('Enter second number: '))\n",
        "\n",
        "result = power(a, b)\n",
        "\n",
        "print(f\"{a} to the power of {b} is {result}\")\n"
      ],
      "metadata": {
        "colab": {
          "base_uri": "https://localhost:8080/"
        },
        "id": "b3RviQzDv46C",
        "outputId": "8ab95723-8587-4d9b-e4f7-40c6f238f5ba"
      },
      "execution_count": 89,
      "outputs": [
        {
          "output_type": "stream",
          "name": "stdout",
          "text": [
            "Enter first number: 2\n",
            "Enter second number: 3\n",
            "2 to the power of 3 is 8\n"
          ]
        }
      ]
    },
    {
      "cell_type": "markdown",
      "source": [
        "## Exercise 3: List Operations\n",
        "### Task:\n",
        "Create a list of five numbers. Write a loop to print each number in the list."
      ],
      "metadata": {
        "id": "yyXAjKNnwh1p"
      }
    },
    {
      "cell_type": "code",
      "source": [
        "list = [1,2,3,4,5]\n",
        "for x in list:\n",
        "  print(x)"
      ],
      "metadata": {
        "colab": {
          "base_uri": "https://localhost:8080/"
        },
        "id": "swwS3Y4Dwiol",
        "outputId": "5a1c6cfa-b841-4f4b-f288-a6b61d338087"
      },
      "execution_count": 49,
      "outputs": [
        {
          "output_type": "stream",
          "name": "stdout",
          "text": [
            "1\n",
            "2\n",
            "3\n",
            "4\n",
            "5\n"
          ]
        }
      ]
    },
    {
      "cell_type": "markdown",
      "source": [
        "\n",
        "## Exercise 4: List Modification\n",
        "### Task:\n",
        "Write a function that takes a list and returns a new list with each element squared."
      ],
      "metadata": {
        "id": "kwrHQtDwwmfZ"
      }
    },
    {
      "cell_type": "code",
      "source": [
        "def square_elements(input):\n",
        "    return [x**2 for x in input]\n",
        "\n",
        "lis = [1, 2, 3, 4, 5]\n",
        "sqlis = square_elements(lis)\n",
        "print(sqlis)\n",
        "\n"
      ],
      "metadata": {
        "colab": {
          "base_uri": "https://localhost:8080/"
        },
        "id": "q8IvqtaFwoeT",
        "outputId": "77b74da1-85be-4f5f-9a8a-58a1367ecba9"
      },
      "execution_count": 57,
      "outputs": [
        {
          "output_type": "stream",
          "name": "stdout",
          "text": [
            "[1, 4, 9, 16, 25]\n"
          ]
        }
      ]
    },
    {
      "cell_type": "markdown",
      "source": [
        "## Exercise 5: Looping through a Dictionary\n",
        "### Task:\n",
        "Create a dictionary with three key-value pairs representing a student's name, age, and grade. Write a loop to print each key and its corresponding value."
      ],
      "metadata": {
        "id": "DnNNIiQ2w6Jk"
      }
    },
    {
      "cell_type": "code",
      "source": [
        "student = {\"name\": \"Alice\", \"age\": 20, \"grade\": \"A\"}\n",
        "for x in student:\n",
        "  print(x ,':' , student[x])"
      ],
      "metadata": {
        "colab": {
          "base_uri": "https://localhost:8080/"
        },
        "id": "jsEVuyrLw_QV",
        "outputId": "c37fed5b-2a3f-4113-f169-eb48dec253b3"
      },
      "execution_count": 61,
      "outputs": [
        {
          "output_type": "stream",
          "name": "stdout",
          "text": [
            "name : Alice\n",
            "age : 20\n",
            "grade : A\n"
          ]
        }
      ]
    },
    {
      "cell_type": "markdown",
      "source": [
        "## Exercise 6: Nested Loops\n",
        "### Task:\n",
        "Write a function that generates a multiplication table for numbers 1 through 5 using nested loops."
      ],
      "metadata": {
        "id": "t6d8Xd-exHIn"
      }
    },
    {
      "cell_type": "code",
      "source": [],
      "metadata": {
        "colab": {
          "base_uri": "https://localhost:8080/"
        },
        "id": "ZSWqaprpxQHx",
        "outputId": "07e18438-5483-4d03-b2dc-c30c447b98bc"
      },
      "execution_count": null,
      "outputs": [
        {
          "output_type": "stream",
          "name": "stdout",
          "text": [
            "1 x 1 = 1\n",
            "1 x 2 = 2\n",
            "1 x 3 = 3\n",
            "1 x 4 = 4\n",
            "1 x 5 = 5\n",
            "\n",
            "2 x 1 = 2\n",
            "2 x 2 = 4\n",
            "2 x 3 = 6\n",
            "2 x 4 = 8\n",
            "2 x 5 = 10\n",
            "\n",
            "3 x 1 = 3\n",
            "3 x 2 = 6\n",
            "3 x 3 = 9\n",
            "3 x 4 = 12\n",
            "3 x 5 = 15\n",
            "\n",
            "4 x 1 = 4\n",
            "4 x 2 = 8\n",
            "4 x 3 = 12\n",
            "4 x 4 = 16\n",
            "4 x 5 = 20\n",
            "\n",
            "5 x 1 = 5\n",
            "5 x 2 = 10\n",
            "5 x 3 = 15\n",
            "5 x 4 = 20\n",
            "5 x 5 = 25\n",
            "\n"
          ]
        }
      ]
    },
    {
      "cell_type": "markdown",
      "source": [
        "## Exercise 7: Filtering a List\n",
        "### Task:\n",
        "Write a function that takes a list of numbers and returns a new list containing only even numbers."
      ],
      "metadata": {
        "id": "3Le93BTpxTK0"
      }
    },
    {
      "cell_type": "code",
      "source": [
        "list = [1,2,3,4,5,6,7,8,9,10]\n",
        "\n",
        "\n",
        "def number():\n",
        ""
      ],
      "metadata": {
        "colab": {
          "base_uri": "https://localhost:8080/"
        },
        "id": "BhzyOd_CxW-A",
        "outputId": "dd12f17b-928b-4840-8d8c-2a9167155b4a"
      },
      "execution_count": null,
      "outputs": [
        {
          "output_type": "stream",
          "name": "stdout",
          "text": [
            "Original list = [1, 2, 3, 4, 5, 6]\n",
            "Filtered List = [2, 4, 6]\n"
          ]
        }
      ]
    }
  ]
}
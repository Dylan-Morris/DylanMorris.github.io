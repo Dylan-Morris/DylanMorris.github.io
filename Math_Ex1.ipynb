{
  "nbformat": 4,
  "nbformat_minor": 0,
  "metadata": {
    "colab": {
      "provenance": [],
      "include_colab_link": true
    },
    "kernelspec": {
      "name": "python3",
      "display_name": "Python 3"
    },
    "language_info": {
      "name": "python"
    }
  },
  "cells": [
    {
      "cell_type": "markdown",
      "metadata": {
        "id": "view-in-github",
        "colab_type": "text"
      },
      "source": [
        "<a href=\"https://colab.research.google.com/github/Dylan-Morris/DylanMorris.github.io/blob/main/Math_Ex1.ipynb\" target=\"_parent\"><img src=\"https://colab.research.google.com/assets/colab-badge.svg\" alt=\"Open In Colab\"/></a>"
      ]
    },
    {
      "cell_type": "markdown",
      "source": [
        "# MATH PYTHON EXERCISE 1"
      ],
      "metadata": {
        "id": "DyT267uWSfzo"
      }
    },
    {
      "cell_type": "markdown",
      "source": [
        "1. Import math correctly"
      ],
      "metadata": {
        "id": "05uxMSoJSkZ4"
      }
    },
    {
      "cell_type": "code",
      "execution_count": 2,
      "metadata": {
        "id": "mR-BCYnKScOn"
      },
      "outputs": [],
      "source": [
        "import math"
      ]
    },
    {
      "cell_type": "markdown",
      "source": [
        "2. Convert 90 degrees to radians and print it"
      ],
      "metadata": {
        "id": "GkvsHhJYS3V5"
      }
    },
    {
      "cell_type": "code",
      "source": [
        "print(math.radians(90))"
      ],
      "metadata": {
        "id": "VbxKmhXBS7fW",
        "colab": {
          "base_uri": "https://localhost:8080/"
        },
        "outputId": "ee890a49-ad82-411b-ed81-ada638bbedfc"
      },
      "execution_count": null,
      "outputs": [
        {
          "output_type": "stream",
          "name": "stdout",
          "text": [
            "1.5707963267948966\n"
          ]
        }
      ]
    },
    {
      "cell_type": "markdown",
      "source": [
        "3. Calculate sin 70, cos 70, tan 70"
      ],
      "metadata": {
        "id": "E_K68TvTS73G"
      }
    },
    {
      "cell_type": "code",
      "source": [
        "print(\"\",math.sin(70),\"\\n\",math.cos(70),\"\\n\",math.tan(70))"
      ],
      "metadata": {
        "id": "RU02BKOlTC87",
        "colab": {
          "base_uri": "https://localhost:8080/"
        },
        "outputId": "ab34a971-e108-491b-b810-c016e42cbe5a"
      },
      "execution_count": null,
      "outputs": [
        {
          "output_type": "stream",
          "name": "stdout",
          "text": [
            "\n",
            " 0.7738906815578891 \n",
            " 0.6333192030862999 \n",
            " 1.2219599181369434\n"
          ]
        }
      ]
    },
    {
      "cell_type": "markdown",
      "source": [
        "4. Calculate sin inverse (0.9396926207859083) cos inverse (0.342020143325668) and tan inverse (2.747477419454621)"
      ],
      "metadata": {
        "id": "ZschTX83TD2T"
      }
    },
    {
      "cell_type": "code",
      "source": [
        "print(\"\",math.degrees(math.asin(0.9396926207859083)),\"°\\n\",\"%0.1f\" %math.degrees(math.acos(0.342020143325668)),\"° (to 1 decimal point)\\n\",math.degrees(math.atan(2.747477419454621)), \"°\")"
      ],
      "metadata": {
        "id": "fNm4gUBGTLb5",
        "colab": {
          "base_uri": "https://localhost:8080/"
        },
        "outputId": "0f363d3b-4111-44c3-fefd-ad527ed89cc7"
      },
      "execution_count": null,
      "outputs": [
        {
          "output_type": "stream",
          "name": "stdout",
          "text": [
            " 70.0 °\n",
            " 70.0 ° (to 1 decimal point)\n",
            " 70.0 °\n"
          ]
        }
      ]
    },
    {
      "cell_type": "markdown",
      "source": [
        "5. Calculat the area of a circle with radius 7"
      ],
      "metadata": {
        "id": "4GI_0CvFTLyq"
      }
    },
    {
      "cell_type": "code",
      "source": [
        "rad = 7\n",
        "print(math.pi*(math.pow(rad, 2)), \"cm²\")"
      ],
      "metadata": {
        "id": "DJO4QSf3TQAI",
        "colab": {
          "base_uri": "https://localhost:8080/"
        },
        "outputId": "772986e0-442a-4bb4-97a5-27c34538dcef"
      },
      "execution_count": null,
      "outputs": [
        {
          "output_type": "stream",
          "name": "stdout",
          "text": [
            "153.93804002589985 cm²\n"
          ]
        }
      ]
    },
    {
      "cell_type": "markdown",
      "source": [
        "6.Calculate the circumference of a circle with radius 7"
      ],
      "metadata": {
        "id": "hijI42uJTQQ6"
      }
    },
    {
      "cell_type": "code",
      "source": [
        "print(\"%0.0f\"%math.degrees(math.tau*7),\"°\")"
      ],
      "metadata": {
        "id": "bl2Aw54MTU9_",
        "colab": {
          "base_uri": "https://localhost:8080/"
        },
        "outputId": "a7c1824d-58f3-45e4-f0cf-e4da8d8a1ccb"
      },
      "execution_count": null,
      "outputs": [
        {
          "output_type": "stream",
          "name": "stdout",
          "text": [
            "2520 °\n"
          ]
        }
      ]
    },
    {
      "cell_type": "markdown",
      "source": [
        "7. Find the cube root of 343 using the math.pow() function"
      ],
      "metadata": {
        "id": "G1ceCYkGTVeb"
      }
    },
    {
      "cell_type": "code",
      "source": [
        "print(math.pow(343, 1/3), \"or 7\")"
      ],
      "metadata": {
        "id": "PaOHKiQuTfub",
        "colab": {
          "base_uri": "https://localhost:8080/"
        },
        "outputId": "63c46341-1327-4f2a-a36b-5a16f016cdac"
      },
      "execution_count": null,
      "outputs": [
        {
          "output_type": "stream",
          "name": "stdout",
          "text": [
            "6.999999999999999 or 7\n"
          ]
        }
      ]
    },
    {
      "cell_type": "markdown",
      "source": [
        "8. Calculate the floor and ceil of 7.83."
      ],
      "metadata": {
        "id": "MnWyQq3_TgMk"
      }
    },
    {
      "cell_type": "code",
      "source": [
        "print(\"floor = \",math.floor(7.83), \"\\nceil  = \", math.ceil(7.83))"
      ],
      "metadata": {
        "id": "_AAHRdk3Toea",
        "colab": {
          "base_uri": "https://localhost:8080/"
        },
        "outputId": "8ceea8ba-bdfa-45ca-98e3-b49fa5f57d8e"
      },
      "execution_count": null,
      "outputs": [
        {
          "output_type": "stream",
          "name": "stdout",
          "text": [
            "floor =  7 \n",
            "ceil  =  8\n"
          ]
        }
      ]
    },
    {
      "cell_type": "markdown",
      "source": [
        "9. Verify identity of (sin45)^2 + (cos45)^2 is approximately equal to 1"
      ],
      "metadata": {
        "id": "t3-Uyg91To7x"
      }
    },
    {
      "cell_type": "code",
      "source": [
        "print(math.sin(45)**2+math.pow(math.cos(45),2))"
      ],
      "metadata": {
        "id": "TTB2YibnUJU-",
        "colab": {
          "base_uri": "https://localhost:8080/"
        },
        "outputId": "cc45de3d-45f4-43d9-888e-ff4adb005951"
      },
      "execution_count": null,
      "outputs": [
        {
          "output_type": "stream",
          "name": "stdout",
          "text": [
            "1.0\n"
          ]
        }
      ]
    },
    {
      "cell_type": "markdown",
      "source": [
        "10. An object is dropped from a height of 78.4 meters.\n",
        "How long will it take to hit the ground?\n",
        "(Use the formula: t = √2h/g , g = 9.8"
      ],
      "metadata": {
        "id": "0_HbNRXlUJl8"
      }
    },
    {
      "cell_type": "code",
      "source": [
        "print(int(math.sqrt(2*78.4)/9.8), \"second\")"
      ],
      "metadata": {
        "id": "zaVO6Fo1UjKl",
        "colab": {
          "base_uri": "https://localhost:8080/"
        },
        "outputId": "7d6a70b2-0763-41f5-c50b-deba639b9632"
      },
      "execution_count": 4,
      "outputs": [
        {
          "output_type": "stream",
          "name": "stdout",
          "text": [
            "1 second\n"
          ]
        }
      ]
    },
    {
      "cell_type": "markdown",
      "source": [
        "11. Area of an Equilateral Triangle\n",
        "Given the side length of an equilateral triangle is 6 units, calculate its area.\n",
        "Use the formula: Area = √(3/4) * (side)^2"
      ],
      "metadata": {
        "id": "lFK6CYF_UjhE"
      }
    },
    {
      "cell_type": "code",
      "source": [
        "print(math.sqrt(3/4)*math.pow(6,2), \"units\")"
      ],
      "metadata": {
        "id": "GSQuQ7UBUvuL",
        "colab": {
          "base_uri": "https://localhost:8080/"
        },
        "outputId": "edd5d9f1-5207-4bf6-d92d-6117e50a6139"
      },
      "execution_count": null,
      "outputs": [
        {
          "output_type": "stream",
          "name": "stdout",
          "text": [
            "31.17691453623979 units\n"
          ]
        }
      ]
    }
  ]
}
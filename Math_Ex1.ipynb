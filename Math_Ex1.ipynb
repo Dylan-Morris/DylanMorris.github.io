{
  "nbformat": 4,
  "nbformat_minor": 0,
  "metadata": {
    "colab": {
      "provenance": [],
      "include_colab_link": true
    },
    "kernelspec": {
      "name": "python3",
      "display_name": "Python 3"
    },
    "language_info": {
      "name": "python"
    }
  },
  "cells": [
    {
      "cell_type": "markdown",
      "metadata": {
        "id": "view-in-github",
        "colab_type": "text"
      },
      "source": [
        "<a href=\"https://colab.research.google.com/github/Dylan-Morris/DylanMorris.github.io/blob/main/Math_Ex1.ipynb\" target=\"_parent\"><img src=\"https://colab.research.google.com/assets/colab-badge.svg\" alt=\"Open In Colab\"/></a>"
      ]
    },
    {
      "cell_type": "markdown",
      "source": [
        "# MATH PYTHON EXERCISE 1"
      ],
      "metadata": {
        "id": "DyT267uWSfzo"
      }
    },
    {
      "cell_type": "markdown",
      "source": [
        "1. Import math correctly"
      ],
      "metadata": {
        "id": "05uxMSoJSkZ4"
      }
    },
    {
      "cell_type": "code",
      "execution_count": 3,
      "metadata": {
        "id": "mR-BCYnKScOn"
      },
      "outputs": [],
      "source": [
        "import math"
      ]
    },
    {
      "cell_type": "markdown",
      "source": [
        "2. Convert 90 degrees to radians and print it"
      ],
      "metadata": {
        "id": "GkvsHhJYS3V5"
      }
    },
    {
      "cell_type": "code",
      "source": [
        "print(math.radians(90))"
      ],
      "metadata": {
        "id": "VbxKmhXBS7fW",
        "colab": {
          "base_uri": "https://localhost:8080/"
        },
        "outputId": "ee890a49-ad82-411b-ed81-ada638bbedfc"
      },
      "execution_count": 4,
      "outputs": [
        {
          "output_type": "stream",
          "name": "stdout",
          "text": [
            "1.5707963267948966\n"
          ]
        }
      ]
    },
    {
      "cell_type": "markdown",
      "source": [
        "3. Calculate sin 70, cos 70, tan 70"
      ],
      "metadata": {
        "id": "E_K68TvTS73G"
      }
    },
    {
      "cell_type": "code",
      "source": [
        "print(\"\",math.sin(70),\"\\n\",math.cos(70),\"\\n\",math.tan(70))"
      ],
      "metadata": {
        "id": "RU02BKOlTC87",
        "colab": {
          "base_uri": "https://localhost:8080/"
        },
        "outputId": "8aca1e4c-d2f3-4af0-af35-1b86f3a73ad0"
      },
      "execution_count": 48,
      "outputs": [
        {
          "output_type": "stream",
          "name": "stdout",
          "text": [
            " 0.7738906815578891 \n",
            " 0.6333192030862999 \n",
            " 1.2219599181369434\n"
          ]
        }
      ]
    },
    {
      "cell_type": "markdown",
      "source": [
        "4. Calculate sin inverse (0.9396926207859083) cos inverse (0.342020143325668) and tan inverse (2.747477419454621)"
      ],
      "metadata": {
        "id": "ZschTX83TD2T"
      }
    },
    {
      "cell_type": "code",
      "source": [
        "print(\" \",math.asin(0.9396926207859083),\"\\n \",math.cos(0.342020143325668),\"\\n\",math.tan(2.747477419454621))"
      ],
      "metadata": {
        "id": "fNm4gUBGTLb5",
        "colab": {
          "base_uri": "https://localhost:8080/"
        },
        "outputId": "dc58fa95-f6fe-426a-b4ff-760f553786ff"
      },
      "execution_count": 51,
      "outputs": [
        {
          "output_type": "stream",
          "name": "stdout",
          "text": [
            "  1.2217304763960306 \n",
            "  0.9420790505828134 \n",
            " -0.4158736630623415\n"
          ]
        }
      ]
    },
    {
      "cell_type": "markdown",
      "source": [
        "5. Calculat the area of a circle with radius 7"
      ],
      "metadata": {
        "id": "4GI_0CvFTLyq"
      }
    },
    {
      "cell_type": "code",
      "source": [
        "rad = 7\n",
        "print(math.pi*(math.pow(rad, 2)))"
      ],
      "metadata": {
        "id": "DJO4QSf3TQAI",
        "colab": {
          "base_uri": "https://localhost:8080/"
        },
        "outputId": "cd23958f-b2f7-4983-976a-7c7fa18f38ef"
      },
      "execution_count": 17,
      "outputs": [
        {
          "output_type": "stream",
          "name": "stdout",
          "text": [
            "153.93804002589985\n"
          ]
        }
      ]
    },
    {
      "cell_type": "markdown",
      "source": [
        "6.Calculate the circumference of a circle with radius 7"
      ],
      "metadata": {
        "id": "hijI42uJTQQ6"
      }
    },
    {
      "cell_type": "code",
      "source": [
        "print(math.tau*7)"
      ],
      "metadata": {
        "id": "bl2Aw54MTU9_",
        "colab": {
          "base_uri": "https://localhost:8080/"
        },
        "outputId": "b5311db1-92b3-4665-ddb0-1126d386f40b"
      },
      "execution_count": 30,
      "outputs": [
        {
          "output_type": "stream",
          "name": "stdout",
          "text": [
            "43.982297150257104\n"
          ]
        }
      ]
    },
    {
      "cell_type": "markdown",
      "source": [
        "7. Find the cube root of 343 using the math.pow() function"
      ],
      "metadata": {
        "id": "G1ceCYkGTVeb"
      }
    },
    {
      "cell_type": "code",
      "source": [
        "print(math.pow(343, 1/3))"
      ],
      "metadata": {
        "id": "PaOHKiQuTfub",
        "colab": {
          "base_uri": "https://localhost:8080/"
        },
        "outputId": "ce577486-1f99-4bc3-f975-dfd0bf1d25b5"
      },
      "execution_count": 34,
      "outputs": [
        {
          "output_type": "stream",
          "name": "stdout",
          "text": [
            "6.999999999999999\n"
          ]
        }
      ]
    },
    {
      "cell_type": "markdown",
      "source": [
        "8. Calculate the floor and ceil of 7.83."
      ],
      "metadata": {
        "id": "MnWyQq3_TgMk"
      }
    },
    {
      "cell_type": "code",
      "source": [
        "print(\"floor = \",math.floor(7.83), \"\\nceil  = \", math.ceil(7.83))"
      ],
      "metadata": {
        "id": "_AAHRdk3Toea",
        "colab": {
          "base_uri": "https://localhost:8080/"
        },
        "outputId": "8ceea8ba-bdfa-45ca-98e3-b49fa5f57d8e"
      },
      "execution_count": 61,
      "outputs": [
        {
          "output_type": "stream",
          "name": "stdout",
          "text": [
            "floor =  7 \n",
            "ceil  =  8\n"
          ]
        }
      ]
    },
    {
      "cell_type": "markdown",
      "source": [
        "9. Verify identity of (sin45)^2 + (cos45)^2 is approximately equal to 1"
      ],
      "metadata": {
        "id": "t3-Uyg91To7x"
      }
    },
    {
      "cell_type": "code",
      "source": [
        "print(math.sin(45)**2+math.pow(math.cos(45),2))"
      ],
      "metadata": {
        "id": "TTB2YibnUJU-",
        "colab": {
          "base_uri": "https://localhost:8080/"
        },
        "outputId": "cc45de3d-45f4-43d9-888e-ff4adb005951"
      },
      "execution_count": 56,
      "outputs": [
        {
          "output_type": "stream",
          "name": "stdout",
          "text": [
            "1.0\n"
          ]
        }
      ]
    },
    {
      "cell_type": "markdown",
      "source": [
        "10. An object is dropped from a height of 78.4 meters.\n",
        "How long will it take to hit the ground?\n",
        "(Use the formula: t = √2h/g , g = 9.8"
      ],
      "metadata": {
        "id": "0_HbNRXlUJl8"
      }
    },
    {
      "cell_type": "code",
      "source": [
        "print(math.sqrt(2*78.4/9.8))"
      ],
      "metadata": {
        "id": "zaVO6Fo1UjKl",
        "colab": {
          "base_uri": "https://localhost:8080/"
        },
        "outputId": "3956797d-417b-4119-e31e-0603f95fed87"
      },
      "execution_count": 38,
      "outputs": [
        {
          "output_type": "stream",
          "name": "stdout",
          "text": [
            "4.0\n"
          ]
        }
      ]
    },
    {
      "cell_type": "markdown",
      "source": [
        "11. Area of an Equilateral Triangle\n",
        "Given the side length of an equilateral triangle is 6 units, calculate its area.\n",
        "Use the formula: Area = √(3/4) * (side)^2"
      ],
      "metadata": {
        "id": "lFK6CYF_UjhE"
      }
    },
    {
      "cell_type": "code",
      "source": [
        "print(math.sqrt(3/4)*math.pow(6,2))"
      ],
      "metadata": {
        "id": "GSQuQ7UBUvuL",
        "colab": {
          "base_uri": "https://localhost:8080/"
        },
        "outputId": "e982f3ac-4716-4d44-bdda-5a1d18fe7988"
      },
      "execution_count": 54,
      "outputs": [
        {
          "output_type": "stream",
          "name": "stdout",
          "text": [
            "31.17691453623979\n"
          ]
        }
      ]
    }
  ]
}
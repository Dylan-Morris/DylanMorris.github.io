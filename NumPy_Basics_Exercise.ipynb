{
  "nbformat": 4,
  "nbformat_minor": 0,
  "metadata": {
    "colab": {
      "provenance": [],
      "include_colab_link": true
    },
    "kernelspec": {
      "name": "python3",
      "display_name": "Python 3"
    },
    "language_info": {
      "name": "python"
    }
  },
  "cells": [
    {
      "cell_type": "markdown",
      "metadata": {
        "id": "view-in-github",
        "colab_type": "text"
      },
      "source": [
        "<a href=\"https://colab.research.google.com/github/Dylan-Morris/DylanMorris.github.io/blob/main/NumPy_Basics_Exercise.ipynb\" target=\"_parent\"><img src=\"https://colab.research.google.com/assets/colab-badge.svg\" alt=\"Open In Colab\"/></a>"
      ]
    },
    {
      "cell_type": "markdown",
      "metadata": {
        "id": "VE2cHlzIuLVT"
      },
      "source": [
        "# 🧮 NumPy Basics - Practice Exercises\n",
        "\n",
        "**Instructions:** Read each task carefully and complete the code blocks using NumPy.\n",
        "Remember to start with:\n",
        "```python\n",
        "import numpy as np\n",
        "```"
      ]
    },
    {
      "cell_type": "markdown",
      "metadata": {
        "id": "8zEt8XiyuLVU"
      },
      "source": [
        "## 🛍️ Task 1: Store Footfall Tracker\n",
        "Create a NumPy array of customer counts over 7 days:\n",
        "`[95, 102, 110, 130, 125, 140, 150]`\n",
        "- Find the average number of customers per day.\n",
        "- Find the highest and lowest footfall."
      ]
    },
    {
      "cell_type": "code",
      "metadata": {
        "id": "SoroU7tnuLVV",
        "colab": {
          "base_uri": "https://localhost:8080/"
        },
        "outputId": "96315be6-f0e3-4b52-a6c0-57b73dad44b1"
      },
      "source": [
        "customer = np.array([95,102,110,130,125,140,150])\n",
        "print(\"Average = \", np.mean(customer), \"\\nHighest = \", np.max(customer), \"\\nLowest  = \", np.min(customer))"
      ],
      "execution_count": 86,
      "outputs": [
        {
          "output_type": "stream",
          "name": "stdout",
          "text": [
            "Average =  121.71428571428571 \n",
            "Highest =  150 \n",
            "Lowest  =  95\n"
          ]
        }
      ]
    },
    {
      "cell_type": "markdown",
      "metadata": {
        "id": "xat9F7uhuLVV"
      },
      "source": [
        "## 📦 Task 2: Inventory Restock Check\n",
        "You have items in stock: `[15, 40, 10, 5, 25]`\n",
        "(sugar, rice, salt, oil, wheat)\n",
        "- Find which items have less than 20 units.\n",
        "- Print how many total items need restocking."
      ]
    },
    {
      "cell_type": "code",
      "metadata": {
        "id": "cfsa1H5GuLVW",
        "colab": {
          "base_uri": "https://localhost:8080/"
        },
        "outputId": "db054c9c-3142-4b41-af73-3d265069e7d4"
      },
      "source": [
        "stock = np.array([15, 40, 10, 5, 25])\n",
        "print(\"\\t     Sugar  Rice Salt   Oil   Wheat\\nIn stock? :\", stock > 20)"
      ],
      "execution_count": 87,
      "outputs": [
        {
          "output_type": "stream",
          "name": "stdout",
          "text": [
            "\t     Sugar  Rice Salt   Oil   Wheat\n",
            "In stock? : [False  True False False  True]\n"
          ]
        }
      ]
    },
    {
      "cell_type": "markdown",
      "metadata": {
        "id": "P05EFRS3uLVW"
      },
      "source": [
        "## 📊 Task 3: Weekly Sales Growth\n",
        "This week’s sales (₹): `[1200, 1350, 1600, 1500, 1450, 1550, 1700]`\n",
        "Last week’s sales: `[1000, 1250, 1400, 1300, 1250, 1450, 1600]`\n",
        "- Calculate the daily growth in sales.\n",
        "- Find the average growth.\n",
        "- Print on which days the sales decreased."
      ]
    },
    {
      "cell_type": "code",
      "metadata": {
        "id": "cbUUvVNAuLVW",
        "colab": {
          "base_uri": "https://localhost:8080/"
        },
        "outputId": "6d8041d9-a861-4a24-ea6c-591f72cb6f8a"
      },
      "source": [
        "this_week = np.array([1200, 1350, 1600, 1500, 1450, 1550, 1700])\n",
        "last_week = np.array([1000, 1250, 1400, 1300, 1250, 1450, 1600])\n",
        "\n",
        "daily_growth = this_week - last_week\n",
        "\n",
        "average_growth = np.mean(daily_growth)\n",
        "print(\"Daily growth =\",daily_growth,\"\\nAverage growth =\",\"%.03f\"%average_growth,\"\\nSales decreased? :\",average_growth > daily_growth)"
      ],
      "execution_count": 88,
      "outputs": [
        {
          "output_type": "stream",
          "name": "stdout",
          "text": [
            "Daily growth = [200 100 200 200 200 100 100] \n",
            "Average growth = 157.143 \n",
            "Sales decreased? : [False  True False False False  True  True]\n"
          ]
        }
      ]
    },
    {
      "cell_type": "markdown",
      "metadata": {
        "id": "WNgW4CozuLVW"
      },
      "source": [
        "## 💸 Task 4: Discounted Prices\n",
        "Prices before discount: `[120, 250, 75, 300, 180]`\n",
        "Apply a 10% discount and print the final prices."
      ]
    },
    {
      "cell_type": "code",
      "metadata": {
        "id": "dpDcBztBuLVW",
        "colab": {
          "base_uri": "https://localhost:8080/"
        },
        "outputId": "b96f83d2-06f3-4906-a555-a523afa734d3"
      },
      "source": [
        "prices = np.array([120, 250, 75, 300, 180])\n",
        "discount = prices *.9\n",
        "print(discount)"
      ],
      "execution_count": 89,
      "outputs": [
        {
          "output_type": "stream",
          "name": "stdout",
          "text": [
            "[108. 225.  68. 270. 162.]\n"
          ]
        }
      ]
    },
    {
      "cell_type": "markdown",
      "metadata": {
        "id": "GZCpDsNjuLVW"
      },
      "source": [
        "## 🧼 Task 5: Hygiene Product Sales\n",
        "Units sold: `[30, 50, 45, 10, 60]`\n",
        "- Find total items sold.\n",
        "- What percentage of total sales came from the item that sold 60 units?"
      ]
    },
    {
      "cell_type": "code",
      "metadata": {
        "id": "k4qrHIRLuLVX",
        "colab": {
          "base_uri": "https://localhost:8080/"
        },
        "outputId": "669c4a94-6fb8-42b2-cd04-d2a8e1cd2627"
      },
      "source": [
        "product_sales = np.array([30, 50, 45, 10, 60])\n",
        "total = np.sum(product_sales)\n",
        "percentage = (60 / total) * 100\n",
        "print(\"%.02f\"%percentage)"
      ],
      "execution_count": 92,
      "outputs": [
        {
          "output_type": "stream",
          "name": "stdout",
          "text": [
            "30.77\n"
          ]
        }
      ]
    },
    {
      "cell_type": "markdown",
      "metadata": {
        "id": "u8CHFoqOuLVX"
      },
      "source": [
        "## 🌡️ Bonus Task: Temperature Conversion\n",
        "Temperatures in Celsius: `[25, 30, 28, 27, 32]`\n",
        "- Convert them to Fahrenheit using:\n",
        "  \n",
        "  \\( F = C \\times \\frac{9}{5} + 32 \\)"
      ]
    },
    {
      "cell_type": "code",
      "metadata": {
        "id": "pGoAXvaTuLVX",
        "colab": {
          "base_uri": "https://localhost:8080/"
        },
        "outputId": "40a37d8e-fe02-4bf2-c922-3916a02344d6"
      },
      "source": [
        "temp = np.array([25, 30, 28, 27, 32])\n",
        "print(temp * 9/5 + 32)"
      ],
      "execution_count": 91,
      "outputs": [
        {
          "output_type": "stream",
          "name": "stdout",
          "text": [
            "[77. 86. 82. 81. 90.]\n"
          ]
        }
      ]
    }
  ]
}